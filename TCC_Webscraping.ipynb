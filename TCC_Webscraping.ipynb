{
  "nbformat": 4,
  "nbformat_minor": 0,
  "metadata": {
    "colab": {
      "provenance": [],
      "authorship_tag": "ABX9TyPQfyuUxOKUSwtasQWyubDs",
      "include_colab_link": true
    },
    "kernelspec": {
      "name": "python3",
      "display_name": "Python 3"
    },
    "language_info": {
      "name": "python"
    }
  },
  "cells": [
    {
      "cell_type": "markdown",
      "metadata": {
        "id": "view-in-github",
        "colab_type": "text"
      },
      "source": [
        "<a href=\"https://colab.research.google.com/github/Davi-Esmeraldo/TCC/blob/main/TCC_Webscraping.ipynb\" target=\"_parent\"><img src=\"https://colab.research.google.com/assets/colab-badge.svg\" alt=\"Open In Colab\"/></a>"
      ]
    },
    {
      "cell_type": "code",
      "execution_count": null,
      "metadata": {
        "id": "Si2IKMhYRr2k"
      },
      "outputs": [],
      "source": [
        "import requests  # Biblioteca para realizar requisições HTTP e acessar páginas da web\n",
        "from bs4 import BeautifulSoup  # Ferramenta para extrair dados de HTML e XML de forma estruturada\n",
        "import time  # Utilizado para criar pausas entre as requisições, evitando sobrecarga no servidor\n",
        "import re  # Biblioteca para trabalhar com expressões regulares e buscar padrões de texto"
      ]
    },
    {
      "cell_type": "code",
      "source": [
        "# Função para extrair o conteúdo específico de uma portaria\n",
        "def extrair_conteudo(link):\n",
        "    try:\n",
        "        # Faz uma requisição HTTP GET para acessar o conteúdo da página\n",
        "        response = requests.get(link)\n",
        "\n",
        "        # Verifica se a resposta foi bem-sucedida (status 200)\n",
        "        if response.status_code == 200:\n",
        "            # Interpretar o conteúdo HTML da página\n",
        "            soup = BeautifulSoup(response.content, 'html.parser')\n",
        "\n",
        "            # Extrai todo o texto da página, usando '\\n' como separador entre linhas e removendo espaços desnecessários\n",
        "            texto_completo = soup.get_text(separator='\\n', strip=True)\n",
        "\n",
        "            # Define um padrão usando regex para capturar o trecho entre:\n",
        "            # \"Poder Judiciário da União Tribunal de Justiça do Distrito Federal e dos Territórios\"\n",
        "            # até o trecho que antecede \"ESTE TEXTO NÃO SUBSTITUI...\"\n",
        "            padrao = (\n",
        "                r\"Poder Judiciário da União\\s+Tribunal de Justiça do Distrito Federal e dos Territórios\"\n",
        "                r\"(.*?)ESTE TEXTO NÃO SUBSTITUI\"\n",
        "            )\n",
        "\n",
        "            # Busca o padrão no texto completo da página.\n",
        "            # A flag re.DOTALL permite que o '.' corresponda a quebras de linha, e re.IGNORECASE ignora maiúsculas/minúsculas.\n",
        "            match = re.search(padrao, texto_completo, re.DOTALL | re.IGNORECASE)\n",
        "\n",
        "            if match:\n",
        "                # Se o padrão for encontrado, retorna o trecho relevante, removendo espaços desnecessários nas bordas\n",
        "                return match.group(1).strip()\n",
        "            else:\n",
        "                # Caso o conteúdo esperado não seja encontrado, exibe uma mensagem de aviso\n",
        "                print(f\"Conteúdo não encontrado no link: {link}\")\n",
        "                return \"Conteúdo não encontrado.\"\n",
        "        else:\n",
        "            # Caso a requisição falhe (status diferente de 200), exibe o código de erro\n",
        "            print(f\"Erro ao acessar {link}: {response.status_code}\")\n",
        "            return \"Erro ao acessar o conteúdo.\"\n",
        "\n",
        "    # Tratamento de exceções para qualquer erro inesperado durante a execução da função\n",
        "    except Exception as e:\n",
        "        print(f\"Erro ao acessar {link}: {e}\")\n",
        "        return \"Erro ao acessar o conteúdo.\"\n"
      ],
      "metadata": {
        "id": "t9hsUofT_6fP"
      },
      "execution_count": null,
      "outputs": []
    },
    {
      "cell_type": "code",
      "source": [
        "# Função para buscar e extrair links de uma página específica\n",
        "def extrair_links(url):\n",
        "    # Faz uma requisição HTTP GET para acessar a página fornecida na URL\n",
        "    response = requests.get(url)\n",
        "\n",
        "    # Verifica se a requisição foi bem-sucedida (status 200)\n",
        "    if response.status_code == 200:\n",
        "        # Usa BeautifulSoup para interpretar o conteúdo HTML da página\n",
        "        soup = BeautifulSoup(response.content, 'html.parser')\n",
        "\n",
        "        # Dicionário para armazenar os dados das portarias, organizados pelo número da portaria\n",
        "        portarias = {}\n",
        "\n",
        "        # Percorre todos os elementos <a> (links) da página\n",
        "        for link in soup.find_all('a'):\n",
        "            # Obtém o valor do atributo 'href' (link) e o texto associado ao link\n",
        "            href = link.get('href')\n",
        "            texto = link.get_text(strip=True)\n",
        "\n",
        "            # Filtra links que são relevantes, contendo 'portaria' no texto ou PDFs nos links\n",
        "            if 'portaria' in texto.lower() or 'pdf' in href.lower():\n",
        "                # Extrai o número da portaria utilizando regex para encontrar dígitos no texto\n",
        "                numero = re.findall(r'\\d+', texto)\n",
        "\n",
        "                if numero:\n",
        "                    # Usa o primeiro número encontrado como o número da portaria\n",
        "                    numero_portaria = numero[0]\n",
        "\n",
        "                    # Monta o link completo caso o link não esteja absoluto (comece com '/')\n",
        "                    link_completo = (\n",
        "                        href if href.startswith('http')\n",
        "                        else f\"https://www.tjdft.jus.br{href}\"\n",
        "                    )\n",
        "\n",
        "                    # Extrai o conteúdo específico da portaria chamando a função `extrair_conteudo`\n",
        "                    conteudo = extrair_conteudo(link_completo)\n",
        "\n",
        "                    # Armazena o texto, link e conteúdo no dicionário, usando o número da portaria como chave\n",
        "                    portarias[numero_portaria] = {\n",
        "                        'texto': texto,\n",
        "                        'link': link_completo,\n",
        "                        'conteudo': conteudo\n",
        "                    }\n",
        "\n",
        "        # Retorna o dicionário contendo todas as portarias encontradas na página\n",
        "        return portarias\n",
        "    else:\n",
        "        # Exibe mensagem de erro caso a requisição não seja bem-sucedida e retorna um dicionário vazio\n",
        "        print(f\"Erro ao acessar {url}: {response.status_code}\")\n",
        "        return {}\n"
      ],
      "metadata": {
        "id": "CGm9V5Wm_97d"
      },
      "execution_count": null,
      "outputs": []
    },
    {
      "cell_type": "code",
      "source": [
        "# Função principal para percorrer todas as páginas e extrair informações\n",
        "def scraping_paginacao(base_url, paginas, delay=1):\n",
        "    # Dicionário para armazenar todas as portarias coletadas\n",
        "    todas_portarias = {}\n",
        "\n",
        "    # Loop para cada página, começando da página 1 até o número total de páginas\n",
        "    for pagina in range(1, paginas + 1):\n",
        "        # Monta a URL da página atual, calculando o parâmetro de início com base na página\n",
        "        url_pag = f\"{base_url}?b_start:int={(pagina - 1) * 30}\"\n",
        "        print(f\"Acessando: {url_pag}\")  # Exibe a URL que está sendo acessada\n",
        "\n",
        "        # Chama a função 'extrair_links' para coletar as portarias da página atual\n",
        "        portarias = extrair_links(url_pag)\n",
        "\n",
        "        # Atualiza o dicionário geral com as portarias extraídas da página atual\n",
        "        todas_portarias.update(portarias)\n",
        "\n",
        "        # Pausa de 'delay' segundos entre as requisições para evitar sobrecarga no servidor\n",
        "        time.sleep(delay)\n",
        "\n",
        "    # Retorna o dicionário contendo todas as portarias coletadas\n",
        "    return todas_portarias\n"
      ],
      "metadata": {
        "id": "16s-iBxXAC2E"
      },
      "execution_count": null,
      "outputs": []
    },
    {
      "cell_type": "code",
      "source": [
        "# URL base e número de páginas\n",
        "base_url = \"https://www.tjdft.jus.br/publicacoes/publicacoes-oficiais/portarias-gpr/2024\"\n",
        "numero_paginas = 1  # Total de páginas 52\n",
        "\n",
        "# Executa o scraping e armazena todas as portarias\n",
        "todas_portarias = scraping_paginacao(base_url, numero_paginas, delay=0)\n"
      ],
      "metadata": {
        "colab": {
          "base_uri": "https://localhost:8080/"
        },
        "id": "nYs08aZUAGzh",
        "outputId": "5049cb60-2ec4-4a77-9b46-ecb6dcd6815d"
      },
      "execution_count": null,
      "outputs": [
        {
          "output_type": "stream",
          "name": "stdout",
          "text": [
            "Acessando: https://www.tjdft.jus.br/publicacoes/publicacoes-oficiais/portarias-gpr/2024?b_start:int=0\n"
          ]
        }
      ]
    },
    {
      "cell_type": "code",
      "source": [
        "# Exemplo: Acessando uma portaria específica pelo número\n",
        "\n",
        "numero_desejado = '1804'\n",
        "if numero_desejado in todas_portarias:\n",
        "    print(f\"Portaria {numero_desejado}:\")\n",
        "    print(f\"Texto: {todas_portarias[numero_desejado]['texto']}\")\n",
        "    print(f\"Link: {todas_portarias[numero_desejado]['link']}\")\n",
        "    print(f\"Conteúdo:\\n{todas_portarias[numero_desejado]['conteudo']}\")\n",
        "else:\n",
        "    print(f\"Portaria {numero_desejado} não encontrada.\")\n"
      ],
      "metadata": {
        "colab": {
          "base_uri": "https://localhost:8080/"
        },
        "id": "jK0EAzCd8Jaw",
        "outputId": "57b1dfdc-37c2-4c3c-daa8-51a5abf2d865"
      },
      "execution_count": null,
      "outputs": [
        {
          "output_type": "stream",
          "name": "stdout",
          "text": [
            "Portaria 1804:\n",
            "Texto: Portaria GPR 1804 de 17/10/2024\n",
            "Link: https://www.tjdft.jus.br/publicacoes/publicacoes-oficiais/portarias-gpr/2024/portaria-gpr-1804-de-17-10-2024\n",
            "Conteúdo:\n",
            "Gabinete da Presidência\n",
            "PORTARIA GPR 1804 DE 17 DE OUTUBRO DE 2024\n",
            "O PRESIDENTE DO TRIBUNAL DE JUSTIÇA DO DISTRITO FEDERAL E DOS TERRITÓRIOS, no uso de sua competência legal e tendo em vista o disposto no processo SEI 0031663/2024,\n",
            "RESOLVE:\n",
            "Conceder aposentadoria voluntária integral à servidora Maria Esmeralda de Souza Barros, matrícula 215, ocupante do cargo de Técnico Judiciário, Área Administrativa, Classe C, Padrão 13, do Quadro de Pessoal deste Tribunal de Justiça, com fundamento no art. 3º da\n",
            "Emenda Constitucional 47/2005\n",
            ", c/c o art. 3º, caput e § 1º, da\n",
            "Emenda Constitucional 103/2019\n",
            ", com as vantagens previstas no art. 67 da\n",
            "Lei 8.112/1990\n",
            ", c/c o art. 6º da\n",
            "Lei 9.624/1998\n",
            "e com o inciso II do art. 15 da\n",
            "Medida Provisória 2.225-45/2001\n",
            ", no art. 3º da\n",
            "Lei 8.911/1994\n",
            ", c/c o art. 15 da\n",
            "Lei 9.527/1997\n",
            ", o art. 5º da\n",
            "Lei 9.624/1998\n",
            "e na determinação judicial contida no MSG 2003.00.2.008895-7, segundo preceitos do\n",
            "RE 638.115/CE\n",
            ", c/c o Parágrafo único do art. 11 da\n",
            "Lei 11.416/2006\n",
            ", incluído pela\n",
            "Lei 14.687/2023\n",
            ", e as vantagens da\n",
            "Lei 11.416/2006\n",
            ", com proventos calculados e reajustados nos termos do art. 3º, caput e Parágrafo único, da\n",
            "Emenda Constitucional 47/2005\n",
            "e do art. 7º da\n",
            "Emenda Constitucional 41/2003\n",
            ".\n",
            "Desembargador WALDIR LEÔNCIO JÚNIOR\n",
            "Presidente\n"
          ]
        }
      ]
    }
  ]
}